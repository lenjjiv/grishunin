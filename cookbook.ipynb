{
 "cells": [
  {
   "cell_type": "code",
   "execution_count": null,
   "metadata": {},
   "outputs": [],
   "source": [
    "# Устанавливаем зависимости для обработки аудио\n",
    "%pip install pedalboard\n",
    "%pip install SpeechRecognition\n",
    "%pip install pydub"
   ]
  },
  {
   "cell_type": "code",
   "execution_count": 1,
   "metadata": {},
   "outputs": [],
   "source": [
    "# Создание отрезка из аудио для тестов\n",
    "from audio_processing import make_sample\n",
    "make_sample('audio/grishunin.mp3', \n",
    "            start=\"35m1s\", # Начало отрезка\n",
    "            end=\"40m20s\" # Конец отрезка\n",
    "            )"
   ]
  },
  {
   "cell_type": "code",
   "execution_count": 1,
   "metadata": {},
   "outputs": [],
   "source": [
    "from pedalboard_process import process_audio\n",
    "process_audio(\"audio/grishunin_35m1s_40m20s.mp3\",\n",
    "              normalize=False, # Усиление громкости (нормализация)\n",
    "              filter_cutoff_hz = 800, # Частота обрезки HiPass-фильтра (обрезка гула аудитории)\n",
    "              output_file = None, # None => имя файла создастся само, добавлением префикса\n",
    "              )"
   ]
  },
  {
   "cell_type": "code",
   "execution_count": null,
   "metadata": {},
   "outputs": [],
   "source": [
    "# Применение эффектов ко всем аудио в указанной папке\n",
    "from pedalboard_process import process_folder, process_audio\n",
    "\n",
    "# Указываем папку, в которой лежат файлы для обработки\n",
    "folder_path = \"folder/\"\n",
    "\n",
    "# Запускаем процесс обработки (применяем process_audio к каждому файлу в папке folder_path)\n",
    "# Можно аналогично применить и любую другую функцию ко всем файлам в папке\n",
    "process_folder(folder_path, process_audio)"
   ]
  }
 ],
 "metadata": {
  "kernelspec": {
   "display_name": "base",
   "language": "python",
   "name": "python3"
  },
  "language_info": {
   "codemirror_mode": {
    "name": "ipython",
    "version": 3
   },
   "file_extension": ".py",
   "mimetype": "text/x-python",
   "name": "python",
   "nbconvert_exporter": "python",
   "pygments_lexer": "ipython3",
   "version": "3.11.5"
  }
 },
 "nbformat": 4,
 "nbformat_minor": 2
}
