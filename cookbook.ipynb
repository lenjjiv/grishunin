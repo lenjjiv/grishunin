{
 "cells": [
  {
   "cell_type": "code",
   "execution_count": null,
   "metadata": {},
   "outputs": [],
   "source": [
    "# Устанавливаем зависимости для обработки аудио\n",
    "%pip install pedalboard\n",
    "%pip install SpeechRecognition\n",
    "%pip install pydub"
   ]
  },
  {
   "cell_type": "code",
   "execution_count": 1,
   "metadata": {},
   "outputs": [],
   "source": [
    "# Создание отрезка из аудио для тестов\n",
    "from audio_processing import make_sample\n",
    "make_sample('audio.mp3', \n",
    "            start=\"5m1s\", # Начало отрезка\n",
    "            end=\"10m20s\" # Конец отрезка\n",
    "            )"
   ]
  },
  {
   "cell_type": "code",
   "execution_count": 1,
   "metadata": {},
   "outputs": [],
   "source": [
    "# Применение эффектов к одному аудио-файлу\n",
    "from pedalboard_process import process_audio\n",
    "process_audio(\"audio.mp3\",\n",
    "              gain_db = 27, # Усиление громкости на 27 db\n",
    "              use_compressor = False, # Отключение компрессора (для простоты)\n",
    "              filter_cutoff_hz = 200, # Частота обрезки HiPass-фильтра\n",
    "              output_file = None # None => имя файла создастся само, добавлением префикса \n",
    "              )"
   ]
  },
  {
   "cell_type": "code",
   "execution_count": null,
   "metadata": {},
   "outputs": [],
   "source": [
    "# Применение эффектов ко всем аудио в указанной папке\n",
    "from pedalboard_process import process_folder, process_audio\n",
    "\n",
    "# Указываем папку, в которой лежат файлы для обработки\n",
    "folder_path = \"folder/\"\n",
    "\n",
    "# Запускаем процесс обработки\n",
    "process_folder(folder_path, process_audio)"
   ]
  },
  {
   "cell_type": "code",
   "execution_count": 1,
   "metadata": {},
   "outputs": [
    {
     "name": "stdout",
     "output_type": "stream",
     "text": [
      "чвк Вагнер хотели расформировать Мы вышли 23 июня на марш справедливости за сутки мы прошли не доходя 200 км до Москвы за это время мы не пролили ни одной капли крови наших бойцов сейчас наступил тот момент когда кровь может пролиться Поэтому понимая всю ответственность за то что будет пролито русская кровь с 1 сторон Мы разворачиваем свои колонны и уходим в обратном направлении в полевые лагеря согласно плану\n"
     ]
    }
   ],
   "source": [
    "from audio_processing import convert_to_wav, transcript\n",
    "\n",
    "# Преобразование аудио к формату .wav\n",
    "audio_wav = convert_to_wav(\"mp3s/audio_2023-11-11_19-03-14.ogg\") \n",
    "\n",
    "# Транскрибирование .wav (.mp3 сервис не принимает)\n",
    "text = transcript(audio_wav)\n",
    "print(text) "
   ]
  }
 ],
 "metadata": {
  "kernelspec": {
   "display_name": "base",
   "language": "python",
   "name": "python3"
  },
  "language_info": {
   "codemirror_mode": {
    "name": "ipython",
    "version": 3
   },
   "file_extension": ".py",
   "mimetype": "text/x-python",
   "name": "python",
   "nbconvert_exporter": "python",
   "pygments_lexer": "ipython3",
   "version": "3.11.5"
  }
 },
 "nbformat": 4,
 "nbformat_minor": 2
}
