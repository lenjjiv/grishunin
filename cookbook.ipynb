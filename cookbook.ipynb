{
 "cells": [
  {
   "cell_type": "code",
   "execution_count": null,
   "metadata": {},
   "outputs": [],
   "source": [
    "# Устанавливаем зависимости для обработки аудио\n",
    "%pip install pedalboard\n",
    "%pip install SpeechRecognition\n",
    "%pip install pydub"
   ]
  },
  {
   "cell_type": "code",
   "execution_count": null,
   "metadata": {},
   "outputs": [],
   "source": [
    "# Создание отрезка из аудио для тестов\n",
    "from audio_processing import make_sample\n",
    "make_sample('audio.mp3', \n",
    "            start=\"5m1s\", # Начало отрезка\n",
    "            end=\"10m20s\" # Конец отрезка\n",
    "            )"
   ]
  },
  {
   "cell_type": "code",
   "execution_count": null,
   "metadata": {},
   "outputs": [],
   "source": [
    "from pedalboard_process import process_audio\n",
    "process_audio(\"audio.mp3\",\n",
    "              gain_db = 27, # Усиление громкости на 27 db\n",
    "              use_compressor = False, # Отключение компрессора (для простоты)\n",
    "              filter_cutoff_hz = 200, # Частота обрезки HiPass-фильтра\n",
    "              output_file = None # None => имя файла создастся само, добавлением префикса \n",
    "              )"
   ]
  },
  {
   "cell_type": "code",
   "execution_count": null,
   "metadata": {},
   "outputs": [],
   "source": [
    "# Применение эффектов ко всем аудио в указанной папке\n",
    "from pedalboard_process import process_folder, process_audio\n",
    "\n",
    "# Указываем папку, в которой лежат файлы для обработки\n",
    "folder_path = \"folder/\"\n",
    "\n",
    "# Запускаем процесс обработки\n",
    "process_folder(folder_path, process_audio)"
   ]
  }
 ],
 "metadata": {
  "language_info": {
   "name": "python"
  }
 },
 "nbformat": 4,
 "nbformat_minor": 2
}
