{
 "cells": [
  {
   "cell_type": "code",
   "execution_count": null,
   "metadata": {},
   "outputs": [],
   "source": [
    "# Устанавливаем зависимости для обработки аудио\n",
    "%pip install pedalboard\n",
    "%pip install pydub"
   ]
  },
  {
   "cell_type": "code",
   "execution_count": 20,
   "metadata": {},
   "outputs": [],
   "source": [
    "from importlib import reload\n",
    "import pedalboard_processing\n",
    "reload(pedalboard_processing)\n",
    "from pedalboard_processing import pedalboard_processing\n",
    "\n",
    "# Загрузка аудиофайла и применение к нему цепочки эффектов\n",
    "sound = pedalboard_processing(\"audio/grishunin_35m1s_40m20s.mp3\",\n",
    "                              filter_hipass_hz = 350,\n",
    "                              target_dB = -10,\n",
    "                              limiter_threshold_db = None,\n",
    "                              chunk_s = 15\n",
    "                              )"
   ]
  }
 ],
 "metadata": {
  "kernelspec": {
   "display_name": "base",
   "language": "python",
   "name": "python3"
  },
  "language_info": {
   "codemirror_mode": {
    "name": "ipython",
    "version": 3
   },
   "file_extension": ".py",
   "mimetype": "text/x-python",
   "name": "python",
   "nbconvert_exporter": "python",
   "pygments_lexer": "ipython3",
   "version": "3.11.5"
  }
 },
 "nbformat": 4,
 "nbformat_minor": 2
}
