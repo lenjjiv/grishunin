{
 "cells": [
  {
   "cell_type": "code",
   "execution_count": null,
   "metadata": {},
   "outputs": [],
   "source": [
    "# Устанавливаем зависимости для обработки аудио\n",
    "%pip install pedalboard\n",
    "%pip install pydub"
   ]
  },
  {
   "cell_type": "code",
   "execution_count": 20,
   "metadata": {},
   "outputs": [],
   "source": [
    "from importlib import reload\n",
    "import pedalboard_processing\n",
    "reload(pedalboard_processing)\n",
    "from pedalboard_processing import pedalboard_processing\n",
    "\n",
    "# Загрузка аудиофайла и применение к нему цепочки эффектов\n",
    "sound = pedalboard_processing(\"audio/grishunin_35m1s_40m20s.mp3\",\n",
    "                              highpass_cutoff = 350,\n",
    "                              target_db = -10,\n",
    "                              limiter_threshold_db = None,\n",
    "                              chunk_s = 15\n",
    "                              )"
   ]
  },
  {
   "cell_type": "code",
   "execution_count": null,
   "metadata": {},
   "outputs": [],
   "source": [
    "# Обработка целой папки с файлами\n",
    "\n",
    "from importlib import reload\n",
    "import functions\n",
    "reload(functions)\n",
    "from functions import *\n",
    "\n",
    "from importlib import reload\n",
    "import pedalboard_processing\n",
    "reload(pedalboard_processing)\n",
    "from pedalboard_processing import pedalboard_processing\n",
    "\n",
    "process_folder('to_process',\n",
    "               pedalboard_processing,\n",
    "               output_folder='audio_processed',\n",
    "               kwargs = {'highpass_cutoff': 350,\n",
    "                         'target_db': -10,\n",
    "                         'limiter_threshold_db': 3,\n",
    "                         'chunk_s': 15})"
   ]
  }
 ],
 "metadata": {
  "kernelspec": {
   "display_name": "base",
   "language": "python",
   "name": "python3"
  },
  "language_info": {
   "codemirror_mode": {
    "name": "ipython",
    "version": 3
   },
   "file_extension": ".py",
   "mimetype": "text/x-python",
   "name": "python",
   "nbconvert_exporter": "python",
   "pygments_lexer": "ipython3",
   "version": "3.11.5"
  }
 },
 "nbformat": 4,
 "nbformat_minor": 2
}
