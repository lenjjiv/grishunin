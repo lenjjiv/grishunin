{
 "cells": [
  {
   "cell_type": "code",
   "execution_count": null,
   "metadata": {},
   "outputs": [],
   "source": [
    "# Устанавливаем зависимости для обработки аудио\n",
    "%pip install pedalboard\n",
    "%pip install pydub"
   ]
  },
  {
   "cell_type": "code",
   "execution_count": 20,
   "metadata": {},
   "outputs": [],
   "source": [
    "from importlib import reload\n",
    "import pedalboard_process\n",
    "reload(pedalboard_process)\n",
    "from pedalboard_process import process_audio\n",
    "\n",
    "# Загрузка аудиофайла\n",
    "sound = process_audio(\"audio/grishunin_35m1s_40m20s.mp3\",\n",
    "                      filter_hipass_hz = 350,\n",
    "                      target_dB = -10,\n",
    "                      limiter_threshold_db = None,\n",
    "                      chunk_s = 15\n",
    "                      )"
   ]
  }
 ],
 "metadata": {
  "kernelspec": {
   "display_name": "base",
   "language": "python",
   "name": "python3"
  },
  "language_info": {
   "codemirror_mode": {
    "name": "ipython",
    "version": 3
   },
   "file_extension": ".py",
   "mimetype": "text/x-python",
   "name": "python",
   "nbconvert_exporter": "python",
   "pygments_lexer": "ipython3",
   "version": "3.11.5"
  }
 },
 "nbformat": 4,
 "nbformat_minor": 2
}
