{
 "cells": [
  {
   "cell_type": "code",
   "execution_count": null,
   "metadata": {},
   "outputs": [],
   "source": [
    "%pip install PyPDF2"
   ]
  },
  {
   "cell_type": "code",
   "execution_count": 2,
   "metadata": {},
   "outputs": [],
   "source": [
    "from text_processing import import_pdf_text, clean_text\n",
    "\n",
    "# Импортируем текст из pdf-файла\n",
    "pages = import_pdf_text('scripts/lemur.pdf', start_page=20, end_page=21)\n",
    "\n",
    "# Объединяем полученные тексты\n",
    "text = '\\n'.join(pages)\n",
    "\n",
    "# Очищаем текст от нежелательных символов\n",
    "text = clean_text(text, mode='aggressive', remove_caps=True)"
   ]
  }
 ],
 "metadata": {
  "kernelspec": {
   "display_name": "base",
   "language": "python",
   "name": "python3"
  },
  "language_info": {
   "codemirror_mode": {
    "name": "ipython",
    "version": 3
   },
   "file_extension": ".py",
   "mimetype": "text/x-python",
   "name": "python",
   "nbconvert_exporter": "python",
   "pygments_lexer": "ipython3",
   "version": "3.11.5"
  }
 },
 "nbformat": 4,
 "nbformat_minor": 2
}
