{
 "cells": [
  {
   "cell_type": "code",
   "execution_count": null,
   "metadata": {},
   "outputs": [],
   "source": [
    "# Устанавливаем зависимость для обработки аудио\n",
    "pip install pedalboard"
   ]
  },
  {
   "cell_type": "code",
   "execution_count": null,
   "metadata": {},
   "outputs": [],
   "source": [
    "from pedalboard_process import *\n",
    "\n",
    "# Указываем папку, в которой лежат файлы для обработки\n",
    "folder_path = \"mp3s\"\n",
    "\n",
    "# Запускаем процесс обработки\n",
    "process_folder(folder_path, process_audio)"
   ]
  }
 ],
 "metadata": {
  "language_info": {
   "name": "python"
  }
 },
 "nbformat": 4,
 "nbformat_minor": 2
}
