{
 "cells": [
  {
   "cell_type": "code",
   "execution_count": null,
   "metadata": {},
   "outputs": [],
   "source": [
    "# Загрузка библиотеки OpenAI-Whisper\n",
    "! pip install git+https://github.com/openai/whisper.git\n",
    "! pip install jiwer"
   ]
  },
  {
   "cell_type": "code",
   "execution_count": null,
   "metadata": {},
   "outputs": [],
   "source": [
    "import os\n",
    "import numpy as np\n",
    "import torch\n",
    "import pandas as pd\n",
    "import whisper\n",
    "\n",
    "# Для создания прогресс-баров\n",
    "from tqdm.notebook import tqdm \n",
    "\n",
    "# Переключение на GPU, если GPU доступно\n",
    "DEVICE = \"cuda\" if torch.cuda.is_available() else \"cpu\""
   ]
  },
  {
   "cell_type": "code",
   "execution_count": null,
   "metadata": {},
   "outputs": [],
   "source": [
    "# Загрузка модели Whisper Large\n",
    "model = whisper.load_model(\"large\")\n",
    "print(\n",
    "    f\"Model is {'multilingual' if model.is_multilingual else 'English-only'} \"\n",
    "    f\"and has {sum(np.prod(p.shape) for p in model.parameters()):,} parameters.\")\n",
    "\n",
    "# Настройка опций: язык — русский, временные метки — нужны.\n",
    "options = whisper.DecodingOptions(language=\"ru\", without_timestamps=False)"
   ]
  },
  {
   "cell_type": "code",
   "execution_count": null,
   "metadata": {},
   "outputs": [],
   "source": [
    "from whisper.utils import get_writer\n",
    "from text_processing import text_preprocess\n",
    "\n",
    "# Загружаем и предобрабатываем prompt из файла\n",
    "prompt_transcribe = text_preprocess('prompts/lemur.txt')\n",
    "\n",
    "# Транскрибируем аудио с помощью Whisper\n",
    "result = model.transcribe(\"grishunin_35m1s_40m20s.mp3\", # Файл для обработки\n",
    "                          initial_prompt=prompt_transcribe, # Входной prompt для fine-tuning'а словаря\n",
    "                          verbose=True, # Выводим результаты на экран сразу по ходу работы\n",
    "                          condition_on_previous_text=False # Распознаваемый текст НЕ воспринимаем как продолжение prompt\n",
    "                          )\n",
    "\n",
    "# Задаём текущую папку и сохраняем субтитры в формате SRT (субтитры)\n",
    "writer = get_writer(\"srt\", \".\")  \n",
    "writer(result, \"audio_file_name\", {})"
   ]
  }
 ],
 "metadata": {
  "kernelspec": {
   "display_name": "base",
   "language": "python",
   "name": "python3"
  },
  "language_info": {
   "name": "python",
   "version": "3.11.5"
  }
 },
 "nbformat": 4,
 "nbformat_minor": 2
}
