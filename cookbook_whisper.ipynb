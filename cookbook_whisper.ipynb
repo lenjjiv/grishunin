{
 "cells": [
  {
   "cell_type": "code",
   "execution_count": null,
   "metadata": {},
   "outputs": [],
   "source": [
    "# Загрузка библиотеки OpenAI-Whisper\n",
    "! pip install git+https://github.com/openai/whisper.git\n",
    "! pip install jiwer"
   ]
  },
  {
   "cell_type": "code",
   "execution_count": null,
   "metadata": {},
   "outputs": [],
   "source": [
    "import os\n",
    "import numpy as np\n",
    "import torch\n",
    "import pandas as pd\n",
    "import whisper\n",
    "\n",
    "# Для создания прогресс-баров\n",
    "from tqdm.notebook import tqdm \n",
    "\n",
    "# Переключение на GPU, если GPU доступно\n",
    "DEVICE = \"cuda\" if torch.cuda.is_available() else \"cpu\""
   ]
  },
  {
   "cell_type": "code",
   "execution_count": null,
   "metadata": {},
   "outputs": [],
   "source": [
    "# Инициализация модели Whisper Large\n",
    "model = whisper.load_model(\"large\")\n",
    "print(\n",
    "    f\"Model is {'multilingual' if model.is_multilingual else 'English-only'} \"\n",
    "    f\"and has {sum(np.prod(p.shape) for p in model.parameters()):,} parameters.\" )\n",
    "\n",
    "# Настройка опций: язык — русский, временные метки — нужны.\n",
    "options = whisper.DecodingOptions(language=\"ru\", without_timestamps=False)"
   ]
  },
  {
   "cell_type": "code",
   "execution_count": null,
   "metadata": {},
   "outputs": [],
   "source": [
    "from whisper.utils import get_writer\n",
    "from text_processing import import_text, export_text\n",
    "from functions import change_name, change_folder_name\n",
    "\n",
    "for (prompt, item) in [ # Указываем, какой файл транскрибировать и с каким initial_prompt \n",
    "                       ('prompts/Sep 1 (Начало).txt', 'audio (dry)/Гришунин 1 (Yandex, 01.09.2023).mp3')\n",
    "                       ('prompts/Sep 8 (Спиноза).txt', 'audio (dry)/Sep 8, Гришунин 2.mp3')\n",
    "                       ('prompts/Sep 15 (Беркли).txt', 'audio (dry)/Sep 15, Гришунин 3.mp3')\n",
    "                       ('prompts/Sep 22 (Кант).txt', 'audio (dry)/Sep 22, Гришунин 4.mp3')\n",
    "                       ('prompts/Oct 6 (Кант).txt', 'audio (dry)/Oct 6, Гришунин 6.mp3')\n",
    "                       ('prompts/Oct 13 (Фихте).txt', 'audio (dry)/Oct 13, Гришунин 7.mp3')\n",
    "                       ('prompts/Oct 20 (Гегель).txt', 'audio (dry)/Oct 20, Гришунин 8.mp3')\n",
    "                       ('prompts/Oct 27 (Фейербах).txt', 'audio (dry)/Oct 27, Гришунин 9.mp3')\n",
    "                       ('prompts/Nov 3 (Энгельс).txt', 'audio (dry)/Nov 3, Гришунин 10.mp3')\n",
    "                       ('prompts/Nov 10 (Бергсон).txt', 'audio (dry)/Nov 10, Гришунин 11.mp3')\n",
    "                       ('prompts/Nov 17 (Чижевский).txt', 'audio (dry)/Nov 17, Гришунин 12.mp3')\n",
    "                       ('prompts/Nov 24 (Конт).txt', 'audio (dry)/Nov 24, Гришунин 13.mp3')\n",
    "                       ('prompts/Sep 29 (Фихте).txt', 'audio (dry)/Sep 29, Гришунин 5.mp3')\n",
    "                       ('prompts/Dec 1 (Мах).txt', 'audio (dry)/Nov 10, Гришунин 11.mp3 audio (dry)/Dec 1, Гришунин 14.mp3')\n",
    "                       ]:\n",
    "    \n",
    "    # Импортируем указанный prompt\n",
    "    prompt_transcribe = import_text(prompt)\n",
    "\n",
    "    # Транскрибируем файл\n",
    "    result = model.transcribe(item, # Файл для обработки\n",
    "                              initial_prompt=prompt_transcribe, # Входной prompt для fine-tuning'а словаря\n",
    "                              verbose=True, # Выводим результаты на экран сразу по ходу работы\n",
    "                              condition_on_previous_text=False, # Распознаваемый текст НЕ воспринимаем как продолжение prompt\n",
    "                              temperature=.1, # Температура — мера \"креативности\" модели\n",
    "                              **{\"language\": 'Russian'} # Дополнительные аргументы для транскрибации\n",
    "                                )\n",
    "    \n",
    "    # Указываем имена выходных файлов (для txt и srt файлов соответственно)\n",
    "    output_txt = change_folder_name(change_name(item, extension='.txt'), 'transcript_txt')\n",
    "    output_srt = change_folder_name(change_name(item, extension=''), 'transcript_srt')\n",
    "    \n",
    "    # Запись текста без тайм-кодов\n",
    "    export_text(result['text'], change_name(item, extension='.txt'))\n",
    "\n",
    "    # Задаём текущую папку и сохраняем субтитры в формате SRT (субтитры с таймкодами)\n",
    "    writer = get_writer(\"srt\", \".\")  \n",
    "    writer(result, change_name(item, extension=''), {})"
   ]
  }
 ],
 "metadata": {
  "kernelspec": {
   "display_name": "base",
   "language": "python",
   "name": "python3"
  },
  "language_info": {
   "name": "python",
   "version": "3.11.5"
  }
 },
 "nbformat": 4,
 "nbformat_minor": 2
}
