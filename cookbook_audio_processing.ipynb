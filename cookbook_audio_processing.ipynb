{
 "cells": [
  {
   "cell_type": "code",
   "execution_count": null,
   "metadata": {},
   "outputs": [],
   "source": [
    "%pip install noisereduce\n",
    "%pip install torch, torchaudio"
   ]
  },
  {
   "cell_type": "code",
   "execution_count": null,
   "metadata": {},
   "outputs": [],
   "source": [
    "from audio_processing import load_audio, normalize_audio, highpass_filter, reduce_noise, save_audio_to_file\n",
    "\n",
    "# Импортируем аудио-файл\n",
    "grisha, sample_rate = load_audio('audio/grishunin_35m1s_40m20s.mp3')\n",
    "\n",
    "# Нормируем уровень громкости\n",
    "grisha, sample_rate = normalize_audio(grisha, sample_rate, target_dB=-9)\n",
    "\n",
    "# Применяем фильтр нижних частот (оставляя верхние ~ High-pass)\n",
    "grisha, sample_rate = highpass_filter(grisha, sample_rate, cutoff_freq=350)\n",
    "\n",
    "# Применение денойзинга\n",
    "grisha, sample_rate = reduce_noise(grisha, sample_rate, prop_decrease=0.5)\n",
    "\n",
    "# Сохранение результатов в файл\n",
    "save_audio_to_file(grisha, sample_rate, 'output.mp3')"
   ]
  }
 ],
 "metadata": {
  "kernelspec": {
   "display_name": "base",
   "language": "python",
   "name": "python3"
  },
  "language_info": {
   "codemirror_mode": {
    "name": "ipython",
    "version": 3
   },
   "file_extension": ".py",
   "mimetype": "text/x-python",
   "name": "python",
   "nbconvert_exporter": "python",
   "pygments_lexer": "ipython3",
   "version": "3.11.5"
  }
 },
 "nbformat": 4,
 "nbformat_minor": 2
}
